{
 "cells": [
  {
   "cell_type": "code",
   "execution_count": null,
   "id": "65c0a029",
   "metadata": {},
   "outputs": [],
   "source": [
    "import numpy as np\n",
    "import matplotlib.pyplot as plt\n",
    "import tensorflow as tf\n",
    "from sklearn.preprocessing import MinMaxScaler\n",
    "import os"
   ]
  },
  {
   "cell_type": "code",
   "execution_count": null,
   "id": "9751c53d",
   "metadata": {},
   "outputs": [],
   "source": [
    "#function to split the data into training, validation and test sets, and calculate their Fourier coefficients along\n",
    "#with the corresponding labels. At t=0 all of the signals are equal, so we omit the first timestep. Ntrain is the \n",
    "#number of trajectories in the training set, Nval is the number in the validation set and Ntest is the number in \n",
    "#the test set\n",
    "def fouriertrainvaltest(X, Y, Ntrain, Nval, Ntest):\n",
    "    \n",
    "    #Generating a training set with Ntrain trajectories, a validation with Nval trajectories and a test set with\n",
    "    #Ntest trajectories. At t=0 all of the signals are equal, so we omit the first timestep.\n",
    "    Xtrain = X[0:Ntrain, 1:401]\n",
    "    Xval = X[Ntrain:Ntrain+Nval, 1:401]\n",
    "    Xtest = X[Ntrain+Nval:Ntrain+Nval+Ntest, 1:401]\n",
    "\n",
    "    #extract the corresponding labels for the training, validation and test sets.\n",
    "    Ytrain = Y[0:Ntrain, :]\n",
    "    Yval = Y[Ntrain:Ntrain+Nval, :]\n",
    "    Ytest = Y[Ntrain+Nval:Ntrain+Nval+Ntest, :]\n",
    "    \n",
    "    #calculating the Fourier coefficients for each subset.\n",
    "    XtrainF = np.fft.fft(Xtrain)\n",
    "    XvalF = np.fft.fft(Xval)\n",
    "    XtestF = np.fft.fft(Xtest)\n",
    "    \n",
    "    #Prepare to split the Fourier coefficients into their real and imaginary components. Each complex number will \n",
    "    #occupy two columns: one for the real part and one for the imaginary part. Therefore, we create new arrays that \n",
    "    #have twice the number of columns. \n",
    "    xtrain = np.zeros((XtrainF.shape[0], 2*XtrainF.shape[1]))\n",
    "    xval = np.zeros((XvalF.shape[0], 2*XvalF.shape[1]))\n",
    "    xtest = np.zeros((XtestF.shape[0], 2*XtestF.shape[1]))\n",
    "\n",
    "    #For each Fourier coefficient in the training set, split into real and imaginary parts. These parts are then\n",
    "    #stored alternately (even indices for real, odd indices for imaginary).\n",
    "    for i in range(XtrainF.shape[0]):\n",
    "        for j in range(XtrainF.shape[1]):\n",
    "            xtrain[i, 2*j] = XtrainF[i,j].real\n",
    "            xtrain[i, 2*j + 1] = XtrainF[i,j].imag\n",
    "        \n",
    "    #Do the same for the test set, splitting the Fourier coefficients into their real and imaginary parts.\n",
    "    for i in range(XtestF.shape[0]):\n",
    "        for j in range(XtestF.shape[1]):\n",
    "            xtest[i, 2*j] = XtestF[i,j].real\n",
    "            xtest[i, 2*j + 1] = XtestF[i,j].imag\n",
    "            \n",
    "    #Similarly, split the Fourier coefficients for the validation set.\n",
    "    for i in range(XvalF.shape[0]):\n",
    "        for j in range(XvalF.shape[1]):\n",
    "            xval[i, 2*j] = XvalF[i,j].real\n",
    "            xval[i, 2*j + 1] = XvalF[i,j].imag\n",
    "            \n",
    "    #Return the transformed training, validation and test sets along with their corresponding labels\n",
    "    return(xtrain, xval, xtest, Ytrain, Yval, Ytest)"
   ]
  },
  {
   "cell_type": "code",
   "execution_count": null,
   "id": "ae61b03b",
   "metadata": {},
   "outputs": [],
   "source": [
    "#Function to calculate the R-squared metric. This function takes the true and predicted values, and calculates the \n",
    "#R-squared value\n",
    "def r_square(y, y_pred):\n",
    "    residual = tf.reduce_sum(tf.square(tf.subtract(y, y_pred)))\n",
    "    total = tf.reduce_sum(tf.square(tf.subtract(y, tf.reduce_mean(y))))\n",
    "    r2 = 1 - residual/total\n",
    "    return(r2)"
   ]
  },
  {
   "cell_type": "code",
   "execution_count": null,
   "id": "df5b717d",
   "metadata": {},
   "outputs": [],
   "source": [
    "#Loading the datasets \n",
    "X = np.loadtxt('Data/Xtrainx.csv', delimiter=',')\n",
    "Y = np.loadtxt('Data/Ytrain.csv', delimiter=',')"
   ]
  },
  {
   "cell_type": "code",
   "execution_count": null,
   "id": "1b81e14d",
   "metadata": {},
   "outputs": [],
   "source": [
    "#Extract the values of $\\omega_c$, $s$ and $\\eta$ from Y for training\n",
    "Y_params = Y[:,3:6]\n",
    "\n",
    "#Scale the extracted parameters to a [0,1] range using min-max scaling\n",
    "scaler=MinMaxScaler()\n",
    "Y_params_scaled = scaler.fit_transform(Y_params)\n",
    "\n",
    "#Generating a training, validation and test set\n",
    "xtrain, xval, xtest, Ytrain, Yval, Ytest = fouriertrainvaltest(X, Y_params_scaled, 1500, 300, 300)"
   ]
  },
  {
   "cell_type": "code",
   "execution_count": null,
   "id": "1a0102a8",
   "metadata": {},
   "outputs": [],
   "source": [
    "#define the path where the model's weights will be saved\n",
    "checkpoint_path = \"training.weights.h5\"\n",
    "checkpoint_dir = os.path.dirname(checkpoint_path)\n",
    "\n",
    "#Create a callback that saves the model's weights\n",
    "cp_callback = tf.keras.callbacks.ModelCheckpoint(filepath=checkpoint_path,\n",
    "                                                 save_weights_only=True,\n",
    "                                                 verbose=1)"
   ]
  },
  {
   "cell_type": "code",
   "execution_count": null,
   "id": "5b1abf8f",
   "metadata": {},
   "outputs": [],
   "source": [
    "#Create a sequential model\n",
    "model = tf.keras.Sequential()\n",
    "#Add the hidden layers\n",
    "model.add(tf.keras.layers.Dense(250, input_dim = (np.shape(xtrain)[1]), activation='sigmoid'))\n",
    "model.add(tf.keras.layers.Dense(250, input_dim = (np.shape(xtrain)[1]), activation='sigmoid'))\n",
    "model.add(tf.keras.layers.Dense(250, input_dim = (np.shape(xtrain)[1]), activation='sigmoid'))\n",
    "model.add(tf.keras.layers.Dense(80 , activation = 'sigmoid'))\n",
    "#Add the output layer\n",
    "model.add(tf.keras.layers.Dense(3, activation = 'linear'))\n",
    "\n",
    "#setting the optimiser equal to the Adam optimiser with learning rate = 0.0001\n",
    "opt = tf.keras.optimizers.Adam(learning_rate = 0.0001)\n",
    "\n",
    "#compliling the model\n",
    "model.compile(optimizer=opt, loss = 'mean_absolute_error', metrics=[r_square])\n",
    "\n",
    "#training the model\n",
    "history = model.fit(xtrain, Ytrain, epochs = 100000, validation_data = (xval, Yval), batch_size = np.shape(xtrain)[0], verbose=2, callbacks=[cp_callback])"
   ]
  },
  {
   "cell_type": "code",
   "execution_count": null,
   "id": "a2327ee2",
   "metadata": {},
   "outputs": [],
   "source": [
    "#Evaluating the model on the test set\n",
    "model.evaluate(xtest, Ytest)"
   ]
  },
  {
   "cell_type": "code",
   "execution_count": null,
   "id": "6d149d07",
   "metadata": {},
   "outputs": [],
   "source": [
    "#Evaluate the model on the training set\n",
    "model.evaluate(xtrain, Ytrain)"
   ]
  },
  {
   "cell_type": "code",
   "execution_count": null,
   "id": "03fad183",
   "metadata": {},
   "outputs": [],
   "source": [
    "#configure font properties for the plots\n",
    "plt.rc('font',family='Times New Roman')\n",
    "plt.rcParams.update({'font.size':13})\n",
    "plt.rcParams['font.size'] = 13\n",
    "plt.rcParams['font.family'] = 'Times New Roman'\n",
    "plt.rcParams['mathtext.fontset'] = 'custom'\n",
    "plt.rcParams['mathtext.rm'] = 'Times New Roman'\n",
    "plt.rcParams['axes.linewidth'] = 1"
   ]
  },
  {
   "cell_type": "code",
   "execution_count": null,
   "id": "3973e773",
   "metadata": {},
   "outputs": [],
   "source": [
    "#inverse transform the scaled outputs to get original values\n",
    "y_true = scaler.inverse_transform(Ytest)\n",
    "y_pred = scaler.inverse_transform(model.predict(xtest))"
   ]
  },
  {
   "cell_type": "code",
   "execution_count": null,
   "id": "472d8fc2",
   "metadata": {},
   "outputs": [],
   "source": [
    "#Create a scatter plot of predicted values for $\\eta$ versus true values\n",
    "plt.plot(y_true[:,0], y_pred[:,0], 'bo', label='Predictions')\n",
    "plt.plot(y_true[:,0], y_true[:,0], color='orange', label='True')\n",
    "plt.legend()\n",
    "plt.ylabel(r\"$\\mathrm{\\hat{\\eta} / \\omega_0}$\")\n",
    "plt.xlabel(r\"$\\mathrm{\\eta / \\omega_0}$\")\n",
    "plt.savefig('ADpredictedetavreal.pdf', bbox_inches='tight')"
   ]
  },
  {
   "cell_type": "code",
   "execution_count": null,
   "id": "d4d9e42c",
   "metadata": {},
   "outputs": [],
   "source": [
    "#define an array where each element is the difference between the predicted value and true value for $|eta$ for a \n",
    "#given trajectory\n",
    "diffseta = y_pred[:,0] - y_true[:,0]\n",
    "\n",
    "#print the minimum difference to find the smallest prediction error\n",
    "print(np.amin(diffseta))\n",
    "#print the maximum difference to find the largest prediction error\n",
    "print(np.amax(diffseta))"
   ]
  },
  {
   "cell_type": "code",
   "execution_count": null,
   "id": "63d25153",
   "metadata": {},
   "outputs": [],
   "source": [
    "#define intervals for analysing the differences between predicted and true values for $\\eta$\n",
    "intervalseta = [-0.03, -0.029, -0.028, -0.027, -0.026, -0.025, -0.024, -0.023, -0.022, -0.021, -0.02, -0.019, -0.018, -0.017, -0.016, -0.015, -0.014, -0.013, -0.012, -0.011, -0.01, -0.009, -0.008, -0.007, -0.006, -0.005, -0.004, -0.003, -0.002, -0.001, -0.00, 0.001, 0.002, 0.003, 0.004, 0.005, 0.006, 0.007, 0.008, 0.009, 0.01, 0.011, 0.012, 0.013, 0.014, 0.015, 0.016]"
   ]
  },
  {
   "cell_type": "code",
   "execution_count": null,
   "id": "571e5904",
   "metadata": {},
   "outputs": [],
   "source": [
    "#initialise list to store the frequencies of differences in intervals for $|eta$\n",
    "freqeta = []\n",
    "\n",
    "#loop through each interval\n",
    "for i in range(len(intervalseta)-1):\n",
    "    #create a mask to find differences within the current interval\n",
    "    masketa = (diffseta >= intervalseta[i]) & (diffseta < intervalseta[i+1])\n",
    "    #append the count of differences within the current interval to the frequency list\n",
    "    freqeta.append(len(diffseta[masketa]))"
   ]
  },
  {
   "cell_type": "code",
   "execution_count": null,
   "id": "3bf64977",
   "metadata": {},
   "outputs": [],
   "source": [
    "#calculate x positions for bars and heights\n",
    "xeta = intervalseta[1:] \n",
    "heightseta = (np.array(freqeta)/len(y_true))*100\n",
    "\n",
    "#create the bar chart\n",
    "plt.bar(xeta, heightseta, width=-0.001, align='edge', alpha = 1, color = 'orange', edgecolor='black')  \n",
    "plt.xlabel(r\"$\\mathrm{(\\hat{\\eta} - \\eta)/\\omega_0}$\")\n",
    "plt.ylabel('% of trajectories')\n",
    "plt.savefig('ADbarcharteta.pdf', bbox_inches='tight')\n",
    "plt.show()"
   ]
  },
  {
   "cell_type": "code",
   "execution_count": null,
   "id": "074db956",
   "metadata": {},
   "outputs": [],
   "source": [
    "#Create a scatter plot of predicted values for $\\omega_c$ versus true values\n",
    "plt.plot(y_true[:,1], y_pred[:,1], 'bo', label='Predictions')\n",
    "plt.plot(y_true[:,1], y_true[:,1], color='orange', label='True')\n",
    "plt.ylabel(r\"$\\mathrm{\\hat{\\omega}_c / \\omega_0}$\")\n",
    "plt.xlabel(r\"$\\mathrm{\\omega_c / \\omega_0}$\")\n",
    "plt.legend()\n",
    "plt.savefig('ADpredictedomegacvreal.pdf', bbox_inches='tight')"
   ]
  },
  {
   "cell_type": "code",
   "execution_count": null,
   "id": "0f5cf9c9",
   "metadata": {},
   "outputs": [],
   "source": [
    "#define an array where each element is the difference between the predicted value and true value for $|omega_c$ for\n",
    "#a given trajectory\n",
    "diffsomegac = y_pred[:,1] - y_true[:,1]\n",
    "\n",
    "#print the minimum difference to find the smallest prediction error\n",
    "print(np.amin(diffsomegac))\n",
    "#print the maximum difference to find the largest prediction error\n",
    "print(np.amax(diffsomegac))"
   ]
  },
  {
   "cell_type": "code",
   "execution_count": null,
   "id": "29e67856",
   "metadata": {},
   "outputs": [],
   "source": [
    "#define intervals for analysing the differences between predicted and true values for $\\omega_c$\n",
    "intervalsomegac = [-0.16, -0.15, -0.14, -0.13, -0.12, -0.11, -0.10, -0.09, -0.08, -0.07, -0.06, -0.05, -0.04, -0.03, -0.02, -0.01, 0.0, 0.01, 0.02, 0.03, 0.04, 0.05, 0.06, 0.07, 0.08, 0.09, 0.1, 0.11, 0.12, 0.13, 0.14, 0.15, 0.16, 0.17, 0.18, 0.19, 0.2, 0.21, 0.22, 0.23, 0.24, 0.25, 0.26, 0.27, 0.28, 0.29, 0.3, 0.31, 0.32, 0.33, 0.34, 0.35, 0.36]"
   ]
  },
  {
   "cell_type": "code",
   "execution_count": null,
   "id": "36ba6b97",
   "metadata": {},
   "outputs": [],
   "source": [
    "#initialise list to store the frequencies of differences in intervals for $|omega_c$\n",
    "freqomegac = []\n",
    "\n",
    "#loop through each interval\n",
    "for i in range(len(intervalsomegac)-1):\n",
    "    #create a mask to find differences within the current interval\n",
    "    maskomegac = (diffsomegac >= intervalsomegac[i]) & (diffsomegac < intervalsomegac[i+1])\n",
    "    #append the count of differences within the current interval to the frequency list\n",
    "    freqomegac.append(len(diffsomegac[maskomegac]))"
   ]
  },
  {
   "cell_type": "code",
   "execution_count": null,
   "id": "acf45bf3",
   "metadata": {},
   "outputs": [],
   "source": [
    "#calculate x positions for bars and heights\n",
    "xomegac = intervalsomegac[1:] \n",
    "heightsomegac = (np.array(freqomegac)/len(y_true))*100\n",
    "\n",
    "#create the bar chart\n",
    "plt.bar(xomegac, heightsomegac, width=-0.01, align='edge', alpha = 1, color = 'orange', edgecolor='black')  \n",
    "plt.xlabel(r\"$\\mathrm{(\\hat{\\omega}_c - \\omega_c)/\\omega_0}$\")\n",
    "plt.ylabel('% of trajectories')\n",
    "plt.savefig('ADbarchartomegac.pdf', bbox_inches='tight')\n",
    "plt.show()"
   ]
  },
  {
   "cell_type": "code",
   "execution_count": null,
   "id": "49bffa6d",
   "metadata": {},
   "outputs": [],
   "source": [
    "#Create a scatter plot of predicted values for $s$ versus true values\n",
    "plt.plot(y_true[:,2], y_pred[:,2], 'bo', label='Predictions')\n",
    "plt.plot(y_true[:,2], y_true[:,2], color='orange', label='True')\n",
    "plt.ylabel(r\"$\\mathrm{\\hat{s}}$\")\n",
    "plt.xlabel(r\"$\\mathrm{ s }$\")\n",
    "plt.legend()\n",
    "plt.savefig('ADpredictedsvreal.pdf', bbox_inches='tight')"
   ]
  },
  {
   "cell_type": "code",
   "execution_count": null,
   "id": "ad05b227",
   "metadata": {},
   "outputs": [],
   "source": [
    "#define an array where each element is the difference between the predicted value and true value for $s$ for\n",
    "#a given trajectory\n",
    "diffss = y_pred[:,2] - y_true[:,2]\n",
    "\n",
    "#print the minimum difference to find the smallest prediction error\n",
    "print(np.amin(diffss))\n",
    "#print the maximum difference to find the largest prediction error\n",
    "print(np.amax(diffss))"
   ]
  },
  {
   "cell_type": "code",
   "execution_count": null,
   "id": "a41c9651",
   "metadata": {},
   "outputs": [],
   "source": [
    "#define intervals for analysing the differences between predicted and true values for $s$\n",
    "intervalss = [-0.57, -0.56, -0.55, -0.54, -0.53, -0.52, -0.51, -0.5, -0.49, -0.48, -0.47, -0.46, -0.45, -0.44, -0.43, -0.42, -0.41, -0.4, -0.39, -0.38, -0.37, -0.36, -0.35, -0.34, -0.33, -0.32, -0.31, -0.3, -0.29, -0.28, -0.27, -0.26, -0.25, -0.24, -0.23, -0.22, -0.21, -0.2, -0.19, -0.18, -0.17, -0.16, -0.15, -0.14, -0.13, -0.12, -0.11, -0.10, -0.09, -0.08, -0.07, -0.06, -0.05, -0.04, -0.03, -0.02, -0.01, 0.0, 0.01, 0.02, 0.03, 0.04, 0.05, 0.06, 0.07, 0.08, 0.09, 0.1, 0.11, 0.12]"
   ]
  },
  {
   "cell_type": "code",
   "execution_count": null,
   "id": "9f0aaeab",
   "metadata": {},
   "outputs": [],
   "source": [
    "#initialise list to store the frequencies of differences in intervals for $s$\n",
    "freqs = []\n",
    "\n",
    "#loop through each interval\n",
    "for i in range(len(intervalss)-1):\n",
    "    #create a mask to find differences within the current interval\n",
    "    masks = (diffss >= intervalss[i]) & (diffss < intervalss[i+1])\n",
    "    #append the count of differences within the current interval to the frequency list\n",
    "    freqs.append(len(diffss[masks]))"
   ]
  },
  {
   "cell_type": "code",
   "execution_count": null,
   "id": "fde69145",
   "metadata": {},
   "outputs": [],
   "source": [
    "#calculate x positions for bars and heights\n",
    "xs = intervalss[1:] \n",
    "heightss = (np.array(freqs)/len(y_true))*100\n",
    "\n",
    "#create the bar chart\n",
    "plt.bar(xs, heightss, width=-0.01, align='edge', alpha = 1, color = 'orange', edgecolor='black')  \n",
    "plt.xlabel(r\"$\\mathrm{(\\hat{\\eta} - \\eta)/\\omega_0}$\")\n",
    "plt.ylabel('% of trajectories')\n",
    "plt.savefig('ADbarcharts.pdf', bbox_inches='tight')\n",
    "plt.show()"
   ]
  }
 ],
 "metadata": {
  "kernelspec": {
   "display_name": "Python 3 (ipykernel)",
   "language": "python",
   "name": "python3"
  },
  "language_info": {
   "codemirror_mode": {
    "name": "ipython",
    "version": 3
   },
   "file_extension": ".py",
   "mimetype": "text/x-python",
   "name": "python",
   "nbconvert_exporter": "python",
   "pygments_lexer": "ipython3",
   "version": "3.9.7"
  }
 },
 "nbformat": 4,
 "nbformat_minor": 5
}
